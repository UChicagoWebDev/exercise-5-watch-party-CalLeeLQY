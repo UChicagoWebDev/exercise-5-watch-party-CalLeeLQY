{
 "cells": [
  {
   "cell_type": "code",
   "execution_count": 1,
   "id": "d80256d7-c924-453f-8d0c-86e1ab3d33f6",
   "metadata": {},
   "outputs": [],
   "source": [
    "import logging\n",
    "import string\n",
    "import traceback\n",
    "import random\n",
    "import sqlite3\n",
    "from datetime import datetime\n",
    "from flask import * # Flask, g, redirect, render_template, request, url_for\n",
    "from functools import wraps\n",
    "import hashlib"
   ]
  },
  {
   "cell_type": "code",
   "execution_count": 2,
   "id": "e4e31954-e7fb-4914-b79f-9512c1ba6c0e",
   "metadata": {},
   "outputs": [],
   "source": [
    "def get_db():\n",
    "    return sqlite3.connect('watchparty.sqlite3')"
   ]
  },
  {
   "cell_type": "code",
   "execution_count": 3,
   "id": "2ba108ce-8346-4b6a-bb20-6d61162c815c",
   "metadata": {},
   "outputs": [],
   "source": [
    "db = sqlite3.connect('watchparty.sqlite3')"
   ]
  },
  {
   "cell_type": "code",
   "execution_count": 4,
   "id": "f868edd1-27df-4bae-8c4e-fbce36bf60b8",
   "metadata": {},
   "outputs": [],
   "source": [
    "def query_db(query, args=(), one=False):\n",
    "    db = get_db()\n",
    "    cursor = db.execute(query, args)\n",
    "    print(\"query_db\")\n",
    "    print(cursor)\n",
    "    rows = cursor.fetchall()\n",
    "    print(rows)\n",
    "    db.commit()\n",
    "    cursor.close()\n",
    "    if rows:\n",
    "        if one: \n",
    "            return rows[0]\n",
    "        return rows\n",
    "    return None"
   ]
  },
  {
   "cell_type": "code",
   "execution_count": 5,
   "id": "e88484e8-cce0-48b3-b117-e946cfdbf133",
   "metadata": {},
   "outputs": [
    {
     "data": {
      "text/plain": [
       "<sqlite3.Cursor at 0x225612885c0>"
      ]
     },
     "execution_count": 5,
     "metadata": {},
     "output_type": "execute_result"
    }
   ],
   "source": [
    "db.execute('select * from messages')"
   ]
  },
  {
   "cell_type": "code",
   "execution_count": 6,
   "id": "4e02dcf7-a4a7-483f-bf48-178a0eeb5467",
   "metadata": {},
   "outputs": [
    {
     "name": "stdout",
     "output_type": "stream",
     "text": [
      "query_db\n",
      "<sqlite3.Cursor object at 0x000002C5240E4DC0>\n",
      "[(1, 1, 1, 'This is an example message'), (2, 2, 1, 'This is *also* an example message'), (3, 1, 1, 'This is a very very very very very very very very very very very very very very very very very very very very very very very very very very very very very very very very very very very long example message'), (4, 'USER_ID', 1, '1'), (5, 'USER_ID', 1, '2'), (6, 'USER_ID', 1, '222'), (7, 'USER_ID', 1, '3'), (8, 'USER_ID', 1, 'w'), (9, 'USER_ID', 1, 's'), (10, 'USER_ID', 1, '3'), (11, 'USER_ID', 1, 'w'), (12, 'USER_ID', 1, 'W'), (13, 'USER_ID', 1, 's'), (14, 'USER_ID', 1, 's'), (15, 'USER_ID', 1, 'a'), (16, 'USER_ID', 1, 's'), (17, 'USER_ID', 1, 's'), (18, 'USER_ID', 1, 's'), (19, 'USER_ID', 1, 's'), (20, 'USER_ID', 1, 's'), (21, 'USER_ID', 1, 's'), (22, 'USER_ID', 1, 's'), (23, 'USER_ID', 1, 's'), (24, 'USER_ID', 1, 's'), (25, 'USER_ID', 1, 's'), (26, 'USER_ID', 1, 's'), (27, 'USER_ID', 1, 's'), (28, 'USER_ID', 1, 's'), (29, 'USER_ID', 1, 'a'), (30, 'USER_ID', 1, 'a'), (31, 'USER_ID', 1, 's'), (32, 'USER_ID', 1, 's'), (33, 'USER_ID', 1, 's'), (34, 5, 1, None), (35, 5, 1, None), (36, 5, 1, None), (37, 5, 1, None), (38, 5, 1, None), (39, 5, 1, None), (40, 5, 1, None), (41, 5, 1, None), (42, 5, 1, None), (43, 5, 1, None), (44, 5, 1, None), (45, 5, 1, None), (46, 5, 1, None), (47, 5, 1, None), (48, 5, 1, None), (49, 5, 1, None), (50, 5, 1, None), (51, 5, 1, None), (52, 5, 1, None), (53, 5, 1, None), (54, 5, 1, None), (55, 5, 2, None), (56, 5, 2, None)]\n"
     ]
    },
    {
     "data": {
      "text/plain": [
       "[(1, 1, 1, 'This is an example message'),\n",
       " (2, 2, 1, 'This is *also* an example message'),\n",
       " (3,\n",
       "  1,\n",
       "  1,\n",
       "  'This is a very very very very very very very very very very very very very very very very very very very very very very very very very very very very very very very very very very very long example message'),\n",
       " (4, 'USER_ID', 1, '1'),\n",
       " (5, 'USER_ID', 1, '2'),\n",
       " (6, 'USER_ID', 1, '222'),\n",
       " (7, 'USER_ID', 1, '3'),\n",
       " (8, 'USER_ID', 1, 'w'),\n",
       " (9, 'USER_ID', 1, 's'),\n",
       " (10, 'USER_ID', 1, '3'),\n",
       " (11, 'USER_ID', 1, 'w'),\n",
       " (12, 'USER_ID', 1, 'W'),\n",
       " (13, 'USER_ID', 1, 's'),\n",
       " (14, 'USER_ID', 1, 's'),\n",
       " (15, 'USER_ID', 1, 'a'),\n",
       " (16, 'USER_ID', 1, 's'),\n",
       " (17, 'USER_ID', 1, 's'),\n",
       " (18, 'USER_ID', 1, 's'),\n",
       " (19, 'USER_ID', 1, 's'),\n",
       " (20, 'USER_ID', 1, 's'),\n",
       " (21, 'USER_ID', 1, 's'),\n",
       " (22, 'USER_ID', 1, 's'),\n",
       " (23, 'USER_ID', 1, 's'),\n",
       " (24, 'USER_ID', 1, 's'),\n",
       " (25, 'USER_ID', 1, 's'),\n",
       " (26, 'USER_ID', 1, 's'),\n",
       " (27, 'USER_ID', 1, 's'),\n",
       " (28, 'USER_ID', 1, 's'),\n",
       " (29, 'USER_ID', 1, 'a'),\n",
       " (30, 'USER_ID', 1, 'a'),\n",
       " (31, 'USER_ID', 1, 's'),\n",
       " (32, 'USER_ID', 1, 's'),\n",
       " (33, 'USER_ID', 1, 's'),\n",
       " (34, 5, 1, None),\n",
       " (35, 5, 1, None),\n",
       " (36, 5, 1, None),\n",
       " (37, 5, 1, None),\n",
       " (38, 5, 1, None),\n",
       " (39, 5, 1, None),\n",
       " (40, 5, 1, None),\n",
       " (41, 5, 1, None),\n",
       " (42, 5, 1, None),\n",
       " (43, 5, 1, None),\n",
       " (44, 5, 1, None),\n",
       " (45, 5, 1, None),\n",
       " (46, 5, 1, None),\n",
       " (47, 5, 1, None),\n",
       " (48, 5, 1, None),\n",
       " (49, 5, 1, None),\n",
       " (50, 5, 1, None),\n",
       " (51, 5, 1, None),\n",
       " (52, 5, 1, None),\n",
       " (53, 5, 1, None),\n",
       " (54, 5, 1, None),\n",
       " (55, 5, 2, None),\n",
       " (56, 5, 2, None)]"
      ]
     },
     "execution_count": 6,
     "metadata": {},
     "output_type": "execute_result"
    }
   ],
   "source": [
    "query_db('select * from messages')"
   ]
  },
  {
   "cell_type": "code",
   "execution_count": null,
   "id": "44031a5f-641e-48b0-8dbb-fcdce17a9814",
   "metadata": {},
   "outputs": [],
   "source": []
  },
  {
   "cell_type": "code",
   "execution_count": null,
   "id": "006b7edc-fdc6-434b-82e1-3bd5733f1bc7",
   "metadata": {},
   "outputs": [],
   "source": []
  }
 ],
 "metadata": {
  "kernelspec": {
   "display_name": "Python 3 (ipykernel)",
   "language": "python",
   "name": "python3"
  },
  "language_info": {
   "codemirror_mode": {
    "name": "ipython",
    "version": 3
   },
   "file_extension": ".py",
   "mimetype": "text/x-python",
   "name": "python",
   "nbconvert_exporter": "python",
   "pygments_lexer": "ipython3",
   "version": "3.10.11"
  }
 },
 "nbformat": 4,
 "nbformat_minor": 5
}
