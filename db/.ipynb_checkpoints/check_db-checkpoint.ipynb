{
 "cells": [
  {
   "cell_type": "code",
   "execution_count": 6,
   "id": "d80256d7-c924-453f-8d0c-86e1ab3d33f6",
   "metadata": {},
   "outputs": [],
   "source": [
    "import logging\n",
    "import string\n",
    "import traceback\n",
    "import random\n",
    "import sqlite3\n",
    "from datetime import datetime\n",
    "from flask import * # Flask, g, redirect, render_template, request, url_for\n",
    "from functools import wraps\n",
    "import hashlib"
   ]
  },
  {
   "cell_type": "code",
   "execution_count": 7,
   "id": "e4e31954-e7fb-4914-b79f-9512c1ba6c0e",
   "metadata": {},
   "outputs": [],
   "source": [
    "def get_db():\n",
    "    return sqlite3.connect('watchparty.sqlite3')"
   ]
  },
  {
   "cell_type": "code",
   "execution_count": 9,
   "id": "2ba108ce-8346-4b6a-bb20-6d61162c815c",
   "metadata": {},
   "outputs": [],
   "source": [
    "db = sqlite3.connect('watchparty.sqlite3')"
   ]
  },
  {
   "cell_type": "code",
   "execution_count": 10,
   "id": "f868edd1-27df-4bae-8c4e-fbce36bf60b8",
   "metadata": {},
   "outputs": [],
   "source": [
    "def query_db(query, args=(), one=False):\n",
    "    db = get_db()\n",
    "    cursor = db.execute(query, args)\n",
    "    print(\"query_db\")\n",
    "    print(cursor)\n",
    "    rows = cursor.fetchall()\n",
    "    print(rows)\n",
    "    db.commit()\n",
    "    cursor.close()\n",
    "    if rows:\n",
    "        if one: \n",
    "            return rows[0]\n",
    "        return rows\n",
    "    return None"
   ]
  },
  {
   "cell_type": "code",
   "execution_count": null,
   "id": "e88484e8-cce0-48b3-b117-e946cfdbf133",
   "metadata": {},
   "outputs": [],
   "source": []
  },
  {
   "cell_type": "code",
   "execution_count": null,
   "id": "4e02dcf7-a4a7-483f-bf48-178a0eeb5467",
   "metadata": {},
   "outputs": [],
   "source": []
  },
  {
   "cell_type": "code",
   "execution_count": null,
   "id": "44031a5f-641e-48b0-8dbb-fcdce17a9814",
   "metadata": {},
   "outputs": [],
   "source": []
  },
  {
   "cell_type": "code",
   "execution_count": null,
   "id": "006b7edc-fdc6-434b-82e1-3bd5733f1bc7",
   "metadata": {},
   "outputs": [],
   "source": []
  }
 ],
 "metadata": {
  "kernelspec": {
   "display_name": "Python 3 (ipykernel)",
   "language": "python",
   "name": "python3"
  },
  "language_info": {
   "codemirror_mode": {
    "name": "ipython",
    "version": 3
   },
   "file_extension": ".py",
   "mimetype": "text/x-python",
   "name": "python",
   "nbconvert_exporter": "python",
   "pygments_lexer": "ipython3",
   "version": "3.10.11"
  }
 },
 "nbformat": 4,
 "nbformat_minor": 5
}
